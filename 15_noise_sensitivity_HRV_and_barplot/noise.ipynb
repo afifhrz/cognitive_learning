{
 "cells": [
  {
   "cell_type": "code",
   "execution_count": 1,
   "metadata": {},
   "outputs": [
    {
     "data": {
      "text/plain": [
       "Index(['Start Date', 'End Date', 'Response Type', 'IP Address', 'Progress',\n",
       "       'Duration (in seconds)', 'Finished', 'Recorded Date', 'Response ID',\n",
       "       'Recipient Last Name', 'Recipient First Name', 'Recipient Email',\n",
       "       'External Data Reference', 'Location Latitude', 'Location Longitude',\n",
       "       'Distribution Channel', 'User Language', 'Experiment set',\n",
       "       'Experiment id',\n",
       "       'Type your set and ID number. \\n\\nFor example: set3-ID2',\n",
       "       'Year of birth\\n\\nFor example 1995', 'Sex', 'Height (cm)',\n",
       "       'Weight (kg)', 'How long have you been in Singapore (in years)?',\n",
       "       'Can you say that you are satisfied with the weather in this city (outdoor weather conditions)?',\n",
       "       'Which type of environment do you like to stay in?',\n",
       "       'How often do you turn on A/C at home?\\n\\n1 means \"Not at all\" and 5 means \"Always\"',\n",
       "       '1 means \"do not agree at all\" and 4 means \"totally agree\" - I need an environment that is completely quiet to get a good nightâ€™s sleep',\n",
       "       '1 means \"do not agree at all\" and 4 means \"totally agree\" - I need a quiet environment to be able to perform new tasks',\n",
       "       '1 means \"do not agree at all\" and 4 means \"totally agree\" - When at home, I quickly get used to noise',\n",
       "       '1 means \"do not agree at all\" and 4 means \"totally agree\" - I become very distressed, if I hear someone talking when I am trying to sleep',\n",
       "       '1 means \"do not agree at all\" and 4 means \"totally agree\" - I am very sensitive to noise from my neighbours',\n",
       "       '1 means \"do not agree at all\" and 4 means \"totally agree\" - When people around me are noisy, I have trouble completing my work',\n",
       "       '1 means \"do not agree at all\" and 4 means \"totally agree\" - I am much less efficient in noisy environments',\n",
       "       '1 means \"do not agree at all\" and 4 means \"totally agree\" - I do not feel well rested after a noisy night',\n",
       "       '1 means \"do not agree at all\" and 4 means \"totally agree\" - It would not bother me to live in a noisy street',\n",
       "       '1 means \"do not agree at all\" and 4 means \"totally agree\" - I am willing to accept disadvantages to live in a quiet place',\n",
       "       '1 means \"do not agree at all\" and 4 means \"totally agree\" - I need peace and quiet to perform a difficult task',\n",
       "       '1 means \"do not agree at all\" and 4 means \"totally agree\" - I can fall asleep even when it is noisy'],\n",
       "      dtype='object')"
      ]
     },
     "execution_count": 1,
     "metadata": {},
     "output_type": "execute_result"
    }
   ],
   "source": [
    "import pandas as pd\n",
    "data = pd.read_excel(\"../0_dataset_master/Participant Onboarding Survey_edited.xlsx\")\n",
    "data.columns"
   ]
  },
  {
   "cell_type": "code",
   "execution_count": 2,
   "metadata": {},
   "outputs": [],
   "source": [
    "col = ['1 means \"do not agree at all\" and 4 means \"totally agree\" - I need a quiet environment to be able to perform new tasks',\n",
    "       '1 means \"do not agree at all\" and 4 means \"totally agree\" - When at home, I quickly get used to noise',\n",
    "       '1 means \"do not agree at all\" and 4 means \"totally agree\" - I become very distressed, if I hear someone talking when I am trying to sleep',\n",
    "       '1 means \"do not agree at all\" and 4 means \"totally agree\" - I am very sensitive to noise from my neighbours',\n",
    "       '1 means \"do not agree at all\" and 4 means \"totally agree\" - When people around me are noisy, I have trouble completing my work',\n",
    "       '1 means \"do not agree at all\" and 4 means \"totally agree\" - I am much less efficient in noisy environments',\n",
    "       '1 means \"do not agree at all\" and 4 means \"totally agree\" - I do not feel well rested after a noisy night',\n",
    "       '1 means \"do not agree at all\" and 4 means \"totally agree\" - It would not bother me to live in a noisy street',\n",
    "       '1 means \"do not agree at all\" and 4 means \"totally agree\" - I am willing to accept disadvantages to live in a quiet place',\n",
    "       '1 means \"do not agree at all\" and 4 means \"totally agree\" - I need peace and quiet to perform a difficult task',\n",
    "       '1 means \"do not agree at all\" and 4 means \"totally agree\" - I can fall asleep even when it is noisy']\n",
    "data['total'] = data['1 means \"do not agree at all\" and 4 means \"totally agree\" - I need an environment that is completely quiet to get a good nightâ€™s sleep']\n",
    "\n",
    "for item in col:\n",
    "    data['total'] = data['total'] + data[item]\n",
    "\n",
    "mean_ = data.total.mean()"
   ]
  },
  {
   "cell_type": "code",
   "execution_count": 3,
   "metadata": {},
   "outputs": [
    {
     "data": {
      "text/plain": [
       "sensitivity_level\n",
       "high_sensitivity    21\n",
       "low_sensitivity     14\n",
       "Name: count, dtype: int64"
      ]
     },
     "execution_count": 3,
     "metadata": {},
     "output_type": "execute_result"
    }
   ],
   "source": [
    "import numpy as np\n",
    "data['sensitivity_level'] = np.where(data['total']>=mean_, \"high_sensitivity\", \"low_sensitivity\")\n",
    "data.sensitivity_level.value_counts()"
   ]
  }
 ],
 "metadata": {
  "kernelspec": {
   "display_name": "Python 3",
   "language": "python",
   "name": "python3"
  },
  "language_info": {
   "codemirror_mode": {
    "name": "ipython",
    "version": 3
   },
   "file_extension": ".py",
   "mimetype": "text/x-python",
   "name": "python",
   "nbconvert_exporter": "python",
   "pygments_lexer": "ipython3",
   "version": "3.10.11"
  }
 },
 "nbformat": 4,
 "nbformat_minor": 2
}
