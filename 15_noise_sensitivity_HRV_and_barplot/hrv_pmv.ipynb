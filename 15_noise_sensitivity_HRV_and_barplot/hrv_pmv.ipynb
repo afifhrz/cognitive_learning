{
 "cells": [
  {
   "cell_type": "markdown",
   "metadata": {},
   "source": [
    "# Preparation"
   ]
  },
  {
   "cell_type": "code",
   "execution_count": 1,
   "metadata": {},
   "outputs": [],
   "source": [
    "# data science\n",
    "import pandas as pd\n",
    "import numpy as np\n",
    "\n",
    "# signal processing\n",
    "from scipy import signal\n",
    "from scipy.ndimage import label\n",
    "from scipy.stats import zscore\n",
    "from scipy.interpolate import interp1d\n",
    "from scipy.integrate import trapz\n",
    "\n",
    "import pythermalcomfort as ptc\n",
    "import warnings"
   ]
  },
  {
   "cell_type": "code",
   "execution_count": 2,
   "metadata": {},
   "outputs": [],
   "source": [
    "data = pd.read_excel(\"../9_plotting_report/HR_compilation.xlsx\")"
   ]
  },
  {
   "cell_type": "markdown",
   "metadata": {},
   "source": [
    "# Insert PMV into V6"
   ]
  },
  {
   "cell_type": "code",
   "execution_count": 3,
   "metadata": {},
   "outputs": [],
   "source": [
    "master_data = pd.read_excel(\"../0_dataset_master/Experiment_edited_V6.xlsx\")"
   ]
  },
  {
   "cell_type": "code",
   "execution_count": 6,
   "metadata": {},
   "outputs": [],
   "source": [
    "master_data['pmv'] = master_data.apply(lambda row: ptc.models.pmv(row['T'], row['Tgl'], row['v_adj'], row['H'], 1, row['clo'], limit_inputs=False), axis=1)"
   ]
  },
  {
   "cell_type": "markdown",
   "metadata": {},
   "source": [
    "# Frequency Domain Analysis"
   ]
  },
  {
   "cell_type": "code",
   "execution_count": 7,
   "metadata": {},
   "outputs": [],
   "source": [
    "def frequency_domain(rri, fs):\n",
    "    # Estimate the spectral density using Welch's method\n",
    "    fxx, pxx = signal.welch(x=rri, fs=fs)\n",
    "    \n",
    "    '''\n",
    "    Segement found frequencies in the bands \n",
    "     - Very Low Frequency (VLF): 0-0.04Hz \n",
    "     - Low Frequency (LF): 0.04-0.15Hz \n",
    "     - High Frequency (HF): 0.15-0.4Hz\n",
    "    '''\n",
    "    cond_vlf = (fxx >= 0) & (fxx < 0.04)\n",
    "    cond_lf = (fxx >= 0.04) & (fxx < 0.15)\n",
    "    cond_hf = (fxx >= 0.15) & (fxx < 0.4)\n",
    "    \n",
    "    # calculate power in each band by integrating the spectral density \n",
    "    vlf = trapz(pxx[cond_vlf], fxx[cond_vlf])\n",
    "    lf = trapz(pxx[cond_lf], fxx[cond_lf])\n",
    "    hf = trapz(pxx[cond_hf], fxx[cond_hf])\n",
    "    \n",
    "    # sum these up to get total power\n",
    "    total_power = vlf + lf + hf\n",
    "\n",
    "    # find which frequency has the most power in each band\n",
    "    peak_vlf = fxx[cond_vlf][np.argmax(pxx[cond_vlf])]\n",
    "    peak_lf = fxx[cond_lf][np.argmax(pxx[cond_lf])]\n",
    "    peak_hf = fxx[cond_hf][np.argmax(pxx[cond_hf])]\n",
    "\n",
    "    # fraction of lf and hf\n",
    "    lf_nu = 100 * lf / (lf + hf)\n",
    "    hf_nu = 100 * hf / (lf + hf)\n",
    "    \n",
    "    results = {}\n",
    "    results['Power VLF (ms2)'] = vlf\n",
    "    results['Power LF (ms2)'] = lf\n",
    "    results['Power HF (ms2)'] = hf   \n",
    "    results['Power Total (ms2)'] = total_power\n",
    "\n",
    "    results['LF/HF'] = (lf/hf)\n",
    "    results['Peak VLF (Hz)'] = peak_vlf\n",
    "    results['Peak LF (Hz)'] = peak_lf\n",
    "    results['Peak HF (Hz)'] = peak_hf\n",
    "\n",
    "    results['Fraction LF (nu)'] = lf_nu\n",
    "    results['Fraction HF (nu)'] = hf_nu\n",
    "    return results, fxx, pxx"
   ]
  },
  {
   "cell_type": "code",
   "execution_count": 8,
   "metadata": {},
   "outputs": [],
   "source": [
    "def FDA(rr, fs, correction=False):\n",
    "    if correction:\n",
    "        rr = rr.copy()\n",
    "        rr[np.abs(zscore(rr)) > 2] = np.median(rr)\n",
    "\n",
    "    # create interpolation function based on the rr-samples. \n",
    "    x = np.cumsum(rr) / 1000.0\n",
    "    f = interp1d(x, rr, kind='cubic')\n",
    "\n",
    "    # sample rate for interpolation\n",
    "    steps = 1 / fs\n",
    "\n",
    "    # now we can sample from interpolation function\n",
    "    xx = np.arange(1, np.max(x), steps)\n",
    "    try:\n",
    "        rr_interpolated = f(xx)\n",
    "    except Exception as e:\n",
    "        xx = np.arange(min(x), np.max(x), steps)\n",
    "        rr_interpolated = f(xx)\n",
    "    results, fxx, pxx = frequency_domain(rr_interpolated, fs)\n",
    "    return results"
   ]
  },
  {
   "cell_type": "markdown",
   "metadata": {},
   "source": [
    "## Insert HRV into V7"
   ]
  },
  {
   "cell_type": "code",
   "execution_count": 9,
   "metadata": {},
   "outputs": [],
   "source": [
    "new = master_data['Time_thermal'].str.split(\"-\", n=1, expand=True)\n",
    "master_data['New_Start_Date'] = pd.to_datetime(master_data['Start Date']).dt.date\n",
    "master_data['New_End_Date'] = pd.to_datetime(master_data['Start Date']).dt.date\n",
    "master_data['New_Start_Date'] = master_data['New_Start_Date'].astype(str) + ' ' + new[0]\n",
    "master_data['New_End_Date'] = master_data['New_End_Date'].astype(str) + ' ' + new[1]\n",
    "master_data['New_Start_Date'] = master_data['New_Start_Date'].astype('datetime64[ms]')\n",
    "master_data['New_End_Date'] = master_data['New_End_Date'].astype('datetime64[ms]')"
   ]
  },
  {
   "cell_type": "code",
   "execution_count": 10,
   "metadata": {},
   "outputs": [],
   "source": [
    "hrv = [\n",
    "        'Power VLF (ms2)', 'Power LF (ms2)','Power HF (ms2)','Power Total (ms2)',\n",
    "        'LF/HF', 'Fraction LF (nu)', 'Fraction HF (nu)', 'rr_mean'\n",
    "    ]\n",
    "\n",
    "result = []\n",
    "for index, row in master_data.iterrows():\n",
    "    # print(row['New_Start_Date'])\n",
    "    # print(row['New_End_Date'])\n",
    "    sliced = data[(row['New_Start_Date']<=data['Time']) & (row['New_End_Date']>=data['Time'])]\n",
    "    # print(f\"Slice data not found: {timestamp}\")\n",
    "    # print(sliced)\n",
    "    # break\n",
    "    try:\n",
    "        results = FDA(sliced.RR, 1)\n",
    "    except Exception as e:\n",
    "        print(sliced)\n",
    "        print(e)\n",
    "        raise e\n",
    "    resTemp = []\n",
    "    for item in hrv:\n",
    "        if item == \"rr_mean\":\n",
    "            resTemp.append(sliced.RR.mean())\n",
    "            continue\n",
    "        resTemp.append(results[item])\n",
    "    result.append(resTemp)\n",
    "\n",
    "master_data[hrv] = result"
   ]
  },
  {
   "cell_type": "code",
   "execution_count": 11,
   "metadata": {},
   "outputs": [],
   "source": [
    "master_data.to_excel(\"../0_dataset_master/Experiment_edited_V7_rr_without_correction.xlsx\", index=False)"
   ]
  },
  {
   "cell_type": "code",
   "execution_count": 12,
   "metadata": {},
   "outputs": [],
   "source": [
    "hrv = [\n",
    "        'Power VLF (ms2)', 'Power LF (ms2)','Power HF (ms2)','Power Total (ms2)',\n",
    "        'LF/HF', 'Fraction LF (nu)', 'Fraction HF (nu)', 'rr_mean'\n",
    "    ]\n",
    "\n",
    "result = []\n",
    "for index, row in master_data.iterrows():\n",
    "    # print(row['New_Start_Date'])\n",
    "    # print(row['New_End_Date'])\n",
    "    sliced = data[(row['New_Start_Date']<=data['Time']) & (row['New_End_Date']>=data['Time'])]\n",
    "    # print(f\"Slice data not found: {timestamp}\")\n",
    "    # print(sliced)\n",
    "    # break\n",
    "    try:\n",
    "        results = FDA(sliced.RR, 1, True)\n",
    "    except Exception as e:\n",
    "        print(sliced)\n",
    "        print(e)\n",
    "        raise e\n",
    "    resTemp = []\n",
    "    for item in hrv:\n",
    "        if item == \"rr_mean\":\n",
    "            resTemp.append(sliced.RR.mean())\n",
    "            continue\n",
    "        resTemp.append(results[item])\n",
    "    result.append(resTemp)\n",
    "\n",
    "master_data[hrv] = result"
   ]
  },
  {
   "cell_type": "code",
   "execution_count": 13,
   "metadata": {},
   "outputs": [],
   "source": [
    "master_data.to_excel(\"../0_dataset_master/Experiment_edited_V7_rr_with_correction.xlsx\", index=False)"
   ]
  }
 ],
 "metadata": {
  "kernelspec": {
   "display_name": "Python 3",
   "language": "python",
   "name": "python3"
  },
  "language_info": {
   "codemirror_mode": {
    "name": "ipython",
    "version": 3
   },
   "file_extension": ".py",
   "mimetype": "text/x-python",
   "name": "python",
   "nbconvert_exporter": "python",
   "pygments_lexer": "ipython3",
   "version": "3.10.11"
  }
 },
 "nbformat": 4,
 "nbformat_minor": 2
}
