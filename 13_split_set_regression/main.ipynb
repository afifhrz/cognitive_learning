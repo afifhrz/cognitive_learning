{
 "cells": [
  {
   "cell_type": "markdown",
   "metadata": {},
   "source": [
    "# Build Model"
   ]
  },
  {
   "cell_type": "code",
   "execution_count": 1,
   "metadata": {},
   "outputs": [
    {
     "name": "stdout",
     "output_type": "stream",
     "text": [
      "<class 'pandas.core.frame.DataFrame'>\n",
      "RangeIndex: 306 entries, 0 to 305\n",
      "Data columns (total 4 columns):\n",
      " #   Column                Non-Null Count  Dtype  \n",
      "---  ------                --------------  -----  \n",
      " 0   subid                 306 non-null    int64  \n",
      " 1   Traffic_noise_levels  306 non-null    int64  \n",
      " 2   FeatureMatch_average  306 non-null    float64\n",
      " 3   SET                   306 non-null    float64\n",
      "dtypes: float64(2), int64(2)\n",
      "memory usage: 9.7 KB\n"
     ]
    }
   ],
   "source": [
    "import pandas as pd\n",
    "import researchpy as rp\n",
    "import statsmodels.api as sm\n",
    "import scipy.stats as stats\n",
    "\n",
    "\n",
    "df = pd.read_excel(\"../0_dataset_master/Experiment_edited_V5b.xlsx\", usecols=['subid','Traffic noise levels', 'SET', 'FeatureMatch_average'])\n",
    "df.columns = ['subid','Traffic_noise_levels', 'FeatureMatch_average', 'SET']\n",
    "set_mean = df['SET'].mean()\n",
    "df['SET'].fillna(value=set_mean, inplace=True)\n",
    "df.info()"
   ]
  },
  {
   "cell_type": "code",
   "execution_count": 2,
   "metadata": {},
   "outputs": [
    {
     "name": "stdout",
     "output_type": "stream",
     "text": [
      "\n",
      "\n"
     ]
    },
    {
     "data": {
      "text/html": [
       "<div>\n",
       "<style scoped>\n",
       "    .dataframe tbody tr th:only-of-type {\n",
       "        vertical-align: middle;\n",
       "    }\n",
       "\n",
       "    .dataframe tbody tr th {\n",
       "        vertical-align: top;\n",
       "    }\n",
       "\n",
       "    .dataframe thead th {\n",
       "        text-align: right;\n",
       "    }\n",
       "</style>\n",
       "<table border=\"1\" class=\"dataframe\">\n",
       "  <thead>\n",
       "    <tr style=\"text-align: right;\">\n",
       "      <th></th>\n",
       "      <th></th>\n",
       "      <th>N</th>\n",
       "      <th>Mean</th>\n",
       "      <th>SD</th>\n",
       "      <th>SE</th>\n",
       "      <th>95% Conf.</th>\n",
       "      <th>Interval</th>\n",
       "    </tr>\n",
       "    <tr>\n",
       "      <th>Traffic_noise_levels</th>\n",
       "      <th>subid</th>\n",
       "      <th></th>\n",
       "      <th></th>\n",
       "      <th></th>\n",
       "      <th></th>\n",
       "      <th></th>\n",
       "      <th></th>\n",
       "    </tr>\n",
       "  </thead>\n",
       "  <tbody>\n",
       "    <tr>\n",
       "      <th rowspan=\"5\" valign=\"top\">45</th>\n",
       "      <th>1</th>\n",
       "      <td>1</td>\n",
       "      <td>23.700</td>\n",
       "      <td>NaN</td>\n",
       "      <td>NaN</td>\n",
       "      <td>NaN</td>\n",
       "      <td>NaN</td>\n",
       "    </tr>\n",
       "    <tr>\n",
       "      <th>2</th>\n",
       "      <td>1</td>\n",
       "      <td>24.100</td>\n",
       "      <td>NaN</td>\n",
       "      <td>NaN</td>\n",
       "      <td>NaN</td>\n",
       "      <td>NaN</td>\n",
       "    </tr>\n",
       "    <tr>\n",
       "      <th>3</th>\n",
       "      <td>1</td>\n",
       "      <td>24.400</td>\n",
       "      <td>NaN</td>\n",
       "      <td>NaN</td>\n",
       "      <td>NaN</td>\n",
       "      <td>NaN</td>\n",
       "    </tr>\n",
       "    <tr>\n",
       "      <th>4</th>\n",
       "      <td>1</td>\n",
       "      <td>23.700</td>\n",
       "      <td>NaN</td>\n",
       "      <td>NaN</td>\n",
       "      <td>NaN</td>\n",
       "      <td>NaN</td>\n",
       "    </tr>\n",
       "    <tr>\n",
       "      <th>5</th>\n",
       "      <td>1</td>\n",
       "      <td>24.100</td>\n",
       "      <td>NaN</td>\n",
       "      <td>NaN</td>\n",
       "      <td>NaN</td>\n",
       "      <td>NaN</td>\n",
       "    </tr>\n",
       "    <tr>\n",
       "      <th>...</th>\n",
       "      <th>...</th>\n",
       "      <td>...</td>\n",
       "      <td>...</td>\n",
       "      <td>...</td>\n",
       "      <td>...</td>\n",
       "      <td>...</td>\n",
       "      <td>...</td>\n",
       "    </tr>\n",
       "    <tr>\n",
       "      <th rowspan=\"5\" valign=\"top\">70</th>\n",
       "      <th>32</th>\n",
       "      <td>4</td>\n",
       "      <td>28.525</td>\n",
       "      <td>3.6863</td>\n",
       "      <td>1.8432</td>\n",
       "      <td>22.6592</td>\n",
       "      <td>34.3908</td>\n",
       "    </tr>\n",
       "    <tr>\n",
       "      <th>33</th>\n",
       "      <td>4</td>\n",
       "      <td>28.300</td>\n",
       "      <td>3.6083</td>\n",
       "      <td>1.8042</td>\n",
       "      <td>22.5584</td>\n",
       "      <td>34.0416</td>\n",
       "    </tr>\n",
       "    <tr>\n",
       "      <th>34</th>\n",
       "      <td>4</td>\n",
       "      <td>28.425</td>\n",
       "      <td>3.8561</td>\n",
       "      <td>1.9280</td>\n",
       "      <td>22.2892</td>\n",
       "      <td>34.5608</td>\n",
       "    </tr>\n",
       "    <tr>\n",
       "      <th>35</th>\n",
       "      <td>4</td>\n",
       "      <td>28.150</td>\n",
       "      <td>3.7332</td>\n",
       "      <td>1.8666</td>\n",
       "      <td>22.2097</td>\n",
       "      <td>34.0903</td>\n",
       "    </tr>\n",
       "    <tr>\n",
       "      <th>36</th>\n",
       "      <td>4</td>\n",
       "      <td>28.500</td>\n",
       "      <td>3.5824</td>\n",
       "      <td>1.7912</td>\n",
       "      <td>22.7997</td>\n",
       "      <td>34.2003</td>\n",
       "    </tr>\n",
       "  </tbody>\n",
       "</table>\n",
       "<p>102 rows × 6 columns</p>\n",
       "</div>"
      ],
      "text/plain": [
       "                            N    Mean      SD      SE  95% Conf.  Interval\n",
       "Traffic_noise_levels subid                                                \n",
       "45                   1      1  23.700     NaN     NaN        NaN       NaN\n",
       "                     2      1  24.100     NaN     NaN        NaN       NaN\n",
       "                     3      1  24.400     NaN     NaN        NaN       NaN\n",
       "                     4      1  23.700     NaN     NaN        NaN       NaN\n",
       "                     5      1  24.100     NaN     NaN        NaN       NaN\n",
       "...                        ..     ...     ...     ...        ...       ...\n",
       "70                   32     4  28.525  3.6863  1.8432    22.6592   34.3908\n",
       "                     33     4  28.300  3.6083  1.8042    22.5584   34.0416\n",
       "                     34     4  28.425  3.8561  1.9280    22.2892   34.5608\n",
       "                     35     4  28.150  3.7332  1.8666    22.2097   34.0903\n",
       "                     36     4  28.500  3.5824  1.7912    22.7997   34.2003\n",
       "\n",
       "[102 rows x 6 columns]"
      ]
     },
     "execution_count": 2,
     "metadata": {},
     "output_type": "execute_result"
    }
   ],
   "source": [
    "rp.summary_cont(df.groupby([\"Traffic_noise_levels\",\"subid\"])[\"SET\"])"
   ]
  },
  {
   "cell_type": "code",
   "execution_count": 3,
   "metadata": {},
   "outputs": [],
   "source": [
    "# boxplot = df.boxplot([\"SET\"], by = [\"Traffic_noise_levels\",\"subid\"],\n",
    "#                      figsize = (80, 15),\n",
    "#                      showmeans = True,\n",
    "#                      notch = True)\n",
    "\n",
    "# boxplot.set_xlabel(\"Traffic Noise Levels\")\n",
    "# boxplot.set_ylabel(\"SET\")"
   ]
  },
  {
   "cell_type": "code",
   "execution_count": 4,
   "metadata": {},
   "outputs": [
    {
     "name": "stdout",
     "output_type": "stream",
     "text": [
      "now process on: 45\n",
      "              Mixed Linear Model Regression Results\n",
      "=================================================================\n",
      "Model:                 MixedLM    Dependent Variable:    SET     \n",
      "No. Observations:      34         Method:                REML    \n",
      "No. Groups:            34         Scale:                 0.0421  \n",
      "Min. group size:       1          Log-Likelihood:        -12.7474\n",
      "Max. group size:       1          Converged:             Yes     \n",
      "Mean group size:       1.0                                       \n",
      "-----------------------------------------------------------------\n",
      "                     Coef.  Std.Err.    z     P>|z| [0.025 0.975]\n",
      "-----------------------------------------------------------------\n",
      "Intercept            24.148    0.022 1108.628 0.000 24.106 24.191\n",
      "FeatureMatch_average -0.000    0.000   -2.598 0.009 -0.001 -0.000\n",
      "subid Var             0.042                                      \n",
      "=================================================================\n",
      "\n",
      "now process on: 55\n"
     ]
    },
    {
     "name": "stderr",
     "output_type": "stream",
     "text": [
      "c:\\Users\\ZENI\\AppData\\Local\\Programs\\Python\\Python310\\lib\\site-packages\\statsmodels\\regression\\mixed_linear_model.py:2262: ConvergenceWarning: The Hessian matrix at the estimated parameter values is not positive definite.\n",
      "  warnings.warn(msg, ConvergenceWarning)\n",
      "c:\\Users\\ZENI\\AppData\\Local\\Programs\\Python\\Python310\\lib\\site-packages\\statsmodels\\base\\model.py:607: ConvergenceWarning: Maximum Likelihood optimization failed to converge. Check mle_retvals\n",
      "  warnings.warn(\"Maximum Likelihood optimization failed to \"\n",
      "c:\\Users\\ZENI\\AppData\\Local\\Programs\\Python\\Python310\\lib\\site-packages\\statsmodels\\regression\\mixed_linear_model.py:2201: ConvergenceWarning: Retrying MixedLM optimization with lbfgs\n",
      "  warnings.warn(\n",
      "c:\\Users\\ZENI\\AppData\\Local\\Programs\\Python\\Python310\\lib\\site-packages\\statsmodels\\regression\\mixed_linear_model.py:2238: ConvergenceWarning: The MLE may be on the boundary of the parameter space.\n",
      "  warnings.warn(msg, ConvergenceWarning)\n",
      "c:\\Users\\ZENI\\AppData\\Local\\Programs\\Python\\Python310\\lib\\site-packages\\statsmodels\\regression\\mixed_linear_model.py:2706: RuntimeWarning: invalid value encountered in sqrt\n",
      "  sdf[0:self.k_fe, 1] = np.sqrt(np.diag(self.cov_params()[0:self.k_fe]))\n"
     ]
    },
    {
     "name": "stdout",
     "output_type": "stream",
     "text": [
      "          Mixed Linear Model Regression Results\n",
      "==========================================================\n",
      "Model:             MixedLM  Dependent Variable:  SET      \n",
      "No. Observations:  136      Method:              REML     \n",
      "No. Groups:        34       Scale:               8.3110   \n",
      "Min. group size:   4        Log-Likelihood:      -340.4355\n",
      "Max. group size:   4        Converged:           Yes      \n",
      "Mean group size:   4.0                                    \n",
      "----------------------------------------------------------\n",
      "                     Coef.  Std.Err. z P>|z| [0.025 0.975]\n",
      "----------------------------------------------------------\n",
      "Intercept            26.859                               \n",
      "FeatureMatch_average  0.003                               \n",
      "subid Var             0.000                               \n",
      "==========================================================\n",
      "\n",
      "now process on: 70\n"
     ]
    },
    {
     "name": "stderr",
     "output_type": "stream",
     "text": [
      "c:\\Users\\ZENI\\AppData\\Local\\Programs\\Python\\Python310\\lib\\site-packages\\statsmodels\\base\\model.py:607: ConvergenceWarning: Maximum Likelihood optimization failed to converge. Check mle_retvals\n",
      "  warnings.warn(\"Maximum Likelihood optimization failed to \"\n",
      "c:\\Users\\ZENI\\AppData\\Local\\Programs\\Python\\Python310\\lib\\site-packages\\statsmodels\\regression\\mixed_linear_model.py:2201: ConvergenceWarning: Retrying MixedLM optimization with lbfgs\n",
      "  warnings.warn(\n"
     ]
    },
    {
     "name": "stdout",
     "output_type": "stream",
     "text": [
      "             Mixed Linear Model Regression Results\n",
      "===============================================================\n",
      "Model:                MixedLM   Dependent Variable:   SET      \n",
      "No. Observations:     136       Method:               REML     \n",
      "No. Groups:           34        Scale:                9.0354   \n",
      "Min. group size:      4         Log-Likelihood:       -345.9821\n",
      "Max. group size:      4         Converged:            Yes      \n",
      "Mean group size:      4.0                                      \n",
      "---------------------------------------------------------------\n",
      "                     Coef.  Std.Err.   z    P>|z| [0.025 0.975]\n",
      "---------------------------------------------------------------\n",
      "Intercept            27.976    1.215 23.034 0.000 25.596 30.357\n",
      "FeatureMatch_average -0.004    0.008 -0.557 0.577 -0.020  0.011\n",
      "subid Var             0.000                                    \n",
      "===============================================================\n",
      "\n"
     ]
    },
    {
     "name": "stderr",
     "output_type": "stream",
     "text": [
      "c:\\Users\\ZENI\\AppData\\Local\\Programs\\Python\\Python310\\lib\\site-packages\\statsmodels\\regression\\mixed_linear_model.py:2238: ConvergenceWarning: The MLE may be on the boundary of the parameter space.\n",
      "  warnings.warn(msg, ConvergenceWarning)\n",
      "c:\\Users\\ZENI\\AppData\\Local\\Programs\\Python\\Python310\\lib\\site-packages\\statsmodels\\regression\\mixed_linear_model.py:2262: ConvergenceWarning: The Hessian matrix at the estimated parameter values is not positive definite.\n",
      "  warnings.warn(msg, ConvergenceWarning)\n"
     ]
    }
   ],
   "source": [
    "import statsmodels.formula.api as smf\n",
    "tnl = [45,55,70]\n",
    "for item in tnl:\n",
    "    # if item == 55:\n",
    "        print(\"now process on:\",item)\n",
    "        model = smf.mixedlm(\"SET ~ FeatureMatch_average\",\n",
    "                            df[df[\"Traffic_noise_levels\"]==item],\n",
    "                            groups=\"subid\").fit()\n",
    "\n",
    "        print(model.summary())"
   ]
  }
 ],
 "metadata": {
  "kernelspec": {
   "display_name": "Python 3",
   "language": "python",
   "name": "python3"
  },
  "language_info": {
   "codemirror_mode": {
    "name": "ipython",
    "version": 3
   },
   "file_extension": ".py",
   "mimetype": "text/x-python",
   "name": "python",
   "nbconvert_exporter": "python",
   "pygments_lexer": "ipython3",
   "version": "3.10.11"
  }
 },
 "nbformat": 4,
 "nbformat_minor": 2
}
