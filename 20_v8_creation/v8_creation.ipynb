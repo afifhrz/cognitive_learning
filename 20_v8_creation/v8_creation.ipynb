{
 "cells": [
  {
   "cell_type": "code",
   "execution_count": 14,
   "metadata": {},
   "outputs": [
    {
     "data": {
      "text/html": [
       "<div>\n",
       "<style scoped>\n",
       "    .dataframe tbody tr th:only-of-type {\n",
       "        vertical-align: middle;\n",
       "    }\n",
       "\n",
       "    .dataframe tbody tr th {\n",
       "        vertical-align: top;\n",
       "    }\n",
       "\n",
       "    .dataframe thead th {\n",
       "        text-align: right;\n",
       "    }\n",
       "</style>\n",
       "<table border=\"1\" class=\"dataframe\">\n",
       "  <thead>\n",
       "    <tr style=\"text-align: right;\">\n",
       "      <th></th>\n",
       "      <th>End Date</th>\n",
       "      <th>Experiment set</th>\n",
       "      <th>Experiment id</th>\n",
       "      <th>Time_thermal</th>\n",
       "    </tr>\n",
       "  </thead>\n",
       "  <tbody>\n",
       "    <tr>\n",
       "      <th>0</th>\n",
       "      <td>2023-07-10 11:02:50</td>\n",
       "      <td>set1</td>\n",
       "      <td>id2</td>\n",
       "      <td>10:45-11:05</td>\n",
       "    </tr>\n",
       "    <tr>\n",
       "      <th>1</th>\n",
       "      <td>2023-07-10 11:03:41</td>\n",
       "      <td>set1</td>\n",
       "      <td>id6</td>\n",
       "      <td>10:45-11:05</td>\n",
       "    </tr>\n",
       "    <tr>\n",
       "      <th>2</th>\n",
       "      <td>2023-07-10 11:03:52</td>\n",
       "      <td>set1</td>\n",
       "      <td>id1</td>\n",
       "      <td>10:45-11:05</td>\n",
       "    </tr>\n",
       "    <tr>\n",
       "      <th>3</th>\n",
       "      <td>2023-07-10 11:04:08</td>\n",
       "      <td>set1</td>\n",
       "      <td>id5</td>\n",
       "      <td>10:45-11:05</td>\n",
       "    </tr>\n",
       "    <tr>\n",
       "      <th>4</th>\n",
       "      <td>2023-07-10 11:05:05</td>\n",
       "      <td>set1</td>\n",
       "      <td>id3</td>\n",
       "      <td>10:45-11:05</td>\n",
       "    </tr>\n",
       "  </tbody>\n",
       "</table>\n",
       "</div>"
      ],
      "text/plain": [
       "             End Date Experiment set Experiment id Time_thermal\n",
       "0 2023-07-10 11:02:50           set1           id2  10:45-11:05\n",
       "1 2023-07-10 11:03:41           set1           id6  10:45-11:05\n",
       "2 2023-07-10 11:03:52           set1           id1  10:45-11:05\n",
       "3 2023-07-10 11:04:08           set1           id5  10:45-11:05\n",
       "4 2023-07-10 11:05:05           set1           id3  10:45-11:05"
      ]
     },
     "execution_count": 14,
     "metadata": {},
     "output_type": "execute_result"
    }
   ],
   "source": [
    "import pandas as pd\n",
    "master_data = pd.read_excel(\"../0_dataset_master/Experiment_edited_V7_rr_with_correction.xlsx\")\n",
    "slice_data = master_data[['End Date',\"Experiment set\",'Experiment id', \"Time_thermal\"]]\n",
    "slice_data.head()"
   ]
  },
  {
   "cell_type": "code",
   "execution_count": 15,
   "metadata": {},
   "outputs": [],
   "source": [
    "data_set = {}\n",
    "ID_arr = [1,2,3,4,5,6]\n",
    "new_set = [1,2,3,4,5,6]\n",
    "for set_ in new_set:\n",
    "    data_set[\"set\"+str(set_)]={}\n",
    "    for id_ in ID_arr:\n",
    "        data_set[\"set\"+str(set_)][\"id\"+str(id_)] = pd.read_excel(f\"../7_resampleIntoEachSet/SkinT_set{set_}.xlsx\", sheet_name=f\"id{id_}\", parse_dates=['Time'], date_format=\"mixed\")"
   ]
  },
  {
   "cell_type": "code",
   "execution_count": 16,
   "metadata": {},
   "outputs": [],
   "source": [
    "from datetime import datetime\n",
    "refineset = [\"set1\",\"set2\"]\n",
    "for set_ in refineset:\n",
    "    for id_ in ID_arr:\n",
    "        date_result = []\n",
    "        # print(f\"process on {set_} id{id_}\")\n",
    "        for _, row in data_set[set_][\"id\"+str(id_)].iterrows():\n",
    "            date_ = row['Time']\n",
    "            if date_.day == 13:\n",
    "                date_result.append(date_)\n",
    "                continue    \n",
    "            date_ = datetime.strptime(str(date_), \"%Y-%d-%m %H:%M:%S\")\n",
    "            date_result.append(date_)\n",
    "        data_set[set_][\"id\"+str(id_)].Time=date_result"
   ]
  },
  {
   "cell_type": "code",
   "execution_count": 20,
   "metadata": {},
   "outputs": [],
   "source": [
    "from datetime import datetime\n",
    "result = []\n",
    "try:\n",
    "    for _, row in slice_data.iterrows():\n",
    "        date = str(row[\"End Date\"].date())\n",
    "        start_clock, end_clock = row['Time_thermal'].split(\"-\")\n",
    "        start_time = date+\" \"+start_clock\n",
    "        end_time = date+\" \"+end_clock\n",
    "\n",
    "        end_time = datetime.strptime(end_time, \"%Y-%m-%d %H:%M\")\n",
    "        start_time = datetime.strptime(start_time, \"%Y-%m-%d %H:%M\")\n",
    "\n",
    "        # print(row)\n",
    "        # print(start_time)\n",
    "        # print(end_time)\n",
    "\n",
    "        dataFiltered = data_set[row['Experiment set']][row['Experiment id']][(end_time > data_set[row['Experiment set']][row['Experiment id']]['Time']) & (start_time <= data_set[row['Experiment set']][row['Experiment id']]['Time'])]\n",
    "        # print(dataFiltered)\n",
    "        # break\n",
    "        resultTemp = []\n",
    "        try:\n",
    "            resultTemp.append(dataFiltered[1].mean(axis=0))\n",
    "        except KeyError:\n",
    "            resultTemp.append(dataFiltered['1'].mean(axis=0))\n",
    "        \n",
    "        try:\n",
    "            resultTemp.append(dataFiltered[2].mean(axis=0))\n",
    "        except KeyError:\n",
    "            resultTemp.append(dataFiltered['2'].mean(axis=0))\n",
    "        \n",
    "        try:\n",
    "            resultTemp.append(dataFiltered[3].mean(axis=0))\n",
    "        except KeyError:\n",
    "            resultTemp.append(dataFiltered['3'].mean(axis=0))\n",
    "        \n",
    "        try:\n",
    "            resultTemp.append(dataFiltered[4].mean(axis=0))\n",
    "        except KeyError:\n",
    "            resultTemp.append(dataFiltered['4'].mean(axis=0))\n",
    "        \n",
    "        result.append(resultTemp)\n",
    "except ValueError:\n",
    "    print(row) \n",
    "\n",
    "master_data[['Average_1','Average_2','Average_3','Average_4']] = result"
   ]
  },
  {
   "cell_type": "code",
   "execution_count": 21,
   "metadata": {},
   "outputs": [],
   "source": [
    "master_data.to_excel(\"../0_dataset_master/Experiment_edited_V8.xlsx\", index=False)"
   ]
  }
 ],
 "metadata": {
  "kernelspec": {
   "display_name": "Python 3",
   "language": "python",
   "name": "python3"
  },
  "language_info": {
   "codemirror_mode": {
    "name": "ipython",
    "version": 3
   },
   "file_extension": ".py",
   "mimetype": "text/x-python",
   "name": "python",
   "nbconvert_exporter": "python",
   "pygments_lexer": "ipython3",
   "version": "3.10.11"
  }
 },
 "nbformat": 4,
 "nbformat_minor": 2
}
