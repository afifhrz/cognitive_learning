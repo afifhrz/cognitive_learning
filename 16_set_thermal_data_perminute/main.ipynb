{
 "cells": [
  {
   "cell_type": "code",
   "execution_count": 70,
   "metadata": {},
   "outputs": [],
   "source": [
    "import pandas as pd\n",
    "import pythermalcomfort as ptc"
   ]
  },
  {
   "cell_type": "code",
   "execution_count": 3,
   "metadata": {},
   "outputs": [],
   "source": [
    "dataPerminute = pd.read_excel(\"../0_dataset_master/ThermalData_perminute.xlsx\", sheet_name=\"no equation_average\")"
   ]
  },
  {
   "cell_type": "code",
   "execution_count": 46,
   "metadata": {},
   "outputs": [],
   "source": [
    "dataDaily = pd.read_excel(\"../0_dataset_master/Daily Initialization Survey_edited.xlsx\")\n",
    "\n",
    "# convert datetime column to just date\n",
    "dataDaily['Date'] = dataDaily['Start Date'].dt.date"
   ]
  },
  {
   "cell_type": "code",
   "execution_count": 49,
   "metadata": {},
   "outputs": [
    {
     "name": "stdout",
     "output_type": "stream",
     "text": [
      "2023-07-10\n"
     ]
    }
   ],
   "source": [
    "for ind, row in dataPerminute.iterrows():\n",
    "    print(row['date'].date())\n",
    "    break"
   ]
  },
  {
   "cell_type": "code",
   "execution_count": 50,
   "metadata": {},
   "outputs": [
    {
     "name": "stdout",
     "output_type": "stream",
     "text": [
      "2023-07-10\n"
     ]
    }
   ],
   "source": [
    "for ind, row in dataDaily.iterrows():\n",
    "    print(row['Date'])\n",
    "    break"
   ]
  },
  {
   "cell_type": "code",
   "execution_count": 66,
   "metadata": {},
   "outputs": [],
   "source": [
    "clo = []\n",
    "for ind, row in dataPerminute.iterrows():\n",
    "    datafiltered = dataDaily[(dataDaily['Experiment id']==row['Experiment id']) & (dataDaily['Experiment set']==row['Experiment set'])]\n",
    "    datafiltered = datafiltered.loc[(row['date'].date()>=dataDaily['Date'])]\n",
    "    # print(datafiltered[['Start Date','clo']])\n",
    "    # break\n",
    "    res = datafiltered['clo'].unique()\n",
    "    if len(res) > 1 and len(res) <= 2:\n",
    "        clo.append(res[1])\n",
    "        continue\n",
    "    elif len(res) > 2:\n",
    "        print(row['date'])\n",
    "        print(datafiltered[['Start Date','clo']])\n",
    "        print(row['Experiment id'])\n",
    "        print(row['Experiment set'])\n",
    "        print(res)\n",
    "        print(\"The Filtered Value should be 2 unique value at max\")\n",
    "        raise ValueError\n",
    "    if not res:\n",
    "        print(row['Experiment id'])\n",
    "        print(row['Experiment set'])\n",
    "        print(res)\n",
    "        print(\"The Filtered Value atleast 1 unique value\")\n",
    "        raise ValueError\n",
    "    clo.append(res[0])"
   ]
  },
  {
   "cell_type": "code",
   "execution_count": 67,
   "metadata": {},
   "outputs": [],
   "source": [
    "dataPerminute['clo'] = clo"
   ]
  },
  {
   "cell_type": "code",
   "execution_count": 71,
   "metadata": {},
   "outputs": [],
   "source": [
    "dataPerminute['SET'] = dataPerminute.apply(lambda row: ptc.models.set_tmp(row['T'], row['Tgl'], row['v'], row['RH'], 1, row['clo']), axis=1)"
   ]
  },
  {
   "cell_type": "code",
   "execution_count": 72,
   "metadata": {},
   "outputs": [],
   "source": [
    "dataPerminute.to_excel(\"../0_dataset_master/ThermalData_perminute_v2.xlsx\", index=False)"
   ]
  }
 ],
 "metadata": {
  "kernelspec": {
   "display_name": "Python 3",
   "language": "python",
   "name": "python3"
  },
  "language_info": {
   "codemirror_mode": {
    "name": "ipython",
    "version": 3
   },
   "file_extension": ".py",
   "mimetype": "text/x-python",
   "name": "python",
   "nbconvert_exporter": "python",
   "pygments_lexer": "ipython3",
   "version": "3.10.11"
  }
 },
 "nbformat": 4,
 "nbformat_minor": 2
}
