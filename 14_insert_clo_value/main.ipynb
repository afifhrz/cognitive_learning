{
 "cells": [
  {
   "cell_type": "markdown",
   "metadata": {},
   "source": [
    "# Load the data"
   ]
  },
  {
   "cell_type": "code",
   "execution_count": 24,
   "metadata": {},
   "outputs": [],
   "source": [
    "import pandas as pd\n",
    "data_v5b = pd.read_excel(\"../0_dataset_master/Experiment_edited_V5b.xlsx\")\n",
    "data_participant = pd.read_excel(\"../0_dataset_master/Participant Onboarding Survey_edited.xlsx\")\n",
    "data_daily_init = pd.read_excel(\"../0_dataset_master/Daily Initialization Survey_edited.xlsx\")"
   ]
  },
  {
   "cell_type": "markdown",
   "metadata": {},
   "source": [
    "# data_participant"
   ]
  },
  {
   "cell_type": "code",
   "execution_count": 25,
   "metadata": {},
   "outputs": [],
   "source": [
    "col = [\n",
    "    'Year of birth\\n\\nFor example 1995', 'Sex', 'Height (cm)',\n",
    "    'Weight (kg)', 'How long have you been in Singapore (in years)?',\n",
    "    'Can you say that you are satisfied with the weather in this city (outdoor weather conditions)?',\n",
    "    'Which type of environment do you like to stay in?',\n",
    "    'How often do you turn on A/C at home?\\n\\n1 means \"Not at all\" and 5 means \"Always\"',\n",
    "    '1 means \"do not agree at all\" and 4 means \"totally agree\" - I need an environment that is completely quiet to get a good nightâ€™s sleep',\n",
    "    '1 means \"do not agree at all\" and 4 means \"totally agree\" - I need a quiet environment to be able to perform new tasks',\n",
    "    '1 means \"do not agree at all\" and 4 means \"totally agree\" - When at home, I quickly get used to noise',\n",
    "    '1 means \"do not agree at all\" and 4 means \"totally agree\" - I become very distressed, if I hear someone talking when I am trying to sleep',\n",
    "    '1 means \"do not agree at all\" and 4 means \"totally agree\" - I am very sensitive to noise from my neighbours',\n",
    "    '1 means \"do not agree at all\" and 4 means \"totally agree\" - When people around me are noisy, I have trouble completing my work',\n",
    "    '1 means \"do not agree at all\" and 4 means \"totally agree\" - I am much less efficient in noisy environments',\n",
    "    '1 means \"do not agree at all\" and 4 means \"totally agree\" - I do not feel well rested after a noisy night',\n",
    "    '1 means \"do not agree at all\" and 4 means \"totally agree\" - It would not bother me to live in a noisy street',\n",
    "    '1 means \"do not agree at all\" and 4 means \"totally agree\" - I am willing to accept disadvantages to live in a quiet place',\n",
    "    '1 means \"do not agree at all\" and 4 means \"totally agree\" - I need peace and quiet to perform a difficult task',\n",
    "    '1 means \"do not agree at all\" and 4 means \"totally agree\" - I can fall asleep even when it is noisy'\n",
    "]\n",
    "\n",
    "try:\n",
    "    for item in col:\n",
    "        col_res = []\n",
    "        for _, row in data_v5b.iterrows():\n",
    "            dataFiltered = data_participant[(data_participant['Experiment id']==row['Experiment id']) & (data_participant['Experiment set']==row['Experiment set'])]\n",
    "            col_res.append(dataFiltered[item].values[0])\n",
    "        data_v5b[item] = col_res\n",
    "except ValueError:\n",
    "    print(row)"
   ]
  },
  {
   "cell_type": "markdown",
   "metadata": {},
   "source": [
    "# data init survey"
   ]
  },
  {
   "cell_type": "code",
   "execution_count": 26,
   "metadata": {},
   "outputs": [],
   "source": [
    "col = [\n",
    "    'Top type - Selected Choice',\n",
    "    'Top type - Others (7) - Text', 'Bottom colour',\n",
    "    'Bottom type - Selected Choice', 'Bottom type - Others - Text', 'clo',\n",
    "    'type',\n",
    "]\n",
    "\n",
    "try:\n",
    "    for item in col:\n",
    "        col_res = []\n",
    "        for _, row in data_v5b.iterrows():\n",
    "            dataFiltered = data_daily_init[(data_daily_init['Experiment id']==row['Experiment id']) & (data_daily_init['Experiment set']==row['Experiment set'])]\n",
    "            col_res.append(dataFiltered[item].values[0])\n",
    "        data_v5b[item] = col_res\n",
    "except ValueError:\n",
    "    print(row)"
   ]
  },
  {
   "cell_type": "code",
   "execution_count": 27,
   "metadata": {},
   "outputs": [
    {
     "name": "stdout",
     "output_type": "stream",
     "text": [
      "<class 'pandas.core.frame.DataFrame'>\n",
      "RangeIndex: 306 entries, 0 to 305\n",
      "Data columns (total 97 columns):\n",
      " #   Column                                                                                                                                     Non-Null Count  Dtype         \n",
      "---  ------                                                                                                                                     --------------  -----         \n",
      " 0   Unnamed: 0                                                                                                                                 306 non-null    int64         \n",
      " 1   No                                                                                                                                         306 non-null    int64         \n",
      " 2   Start Date                                                                                                                                 306 non-null    datetime64[ns]\n",
      " 3   End Date                                                                                                                                   306 non-null    datetime64[ns]\n",
      " 4   IP Address                                                                                                                                 306 non-null    object        \n",
      " 5   Progress                                                                                                                                   306 non-null    int64         \n",
      " 6   Duration (in seconds)                                                                                                                      306 non-null    int64         \n",
      " 7   Finished                                                                                                                                   306 non-null    bool          \n",
      " 8   Recorded Date                                                                                                                              306 non-null    datetime64[ns]\n",
      " 9   Response ID                                                                                                                                306 non-null    object        \n",
      " 10  Experiment set                                                                                                                             306 non-null    object        \n",
      " 11  Experiment id                                                                                                                              306 non-null    object        \n",
      " 12  subid                                                                                                                                      306 non-null    int64         \n",
      " 13  Type your set and ID number. \n",
      "\n",
      "For example: set3-ID2                                                                                       207 non-null    object        \n",
      " 14  Time\n",
      "\n",
      "For example 11:30 AM                                                                                                                 305 non-null    object        \n",
      " 15  Thermal                                                                                                                                    306 non-null    object        \n",
      " 16  Traffic noise levels                                                                                                                       306 non-null    int64         \n",
      " 17  Speech                                                                                                                                     306 non-null    int64         \n",
      " 18  Time_thermal                                                                                                                               306 non-null    object        \n",
      " 19  v                                                                                                                                          170 non-null    float64       \n",
      " 20  v_adj                                                                                                                                      306 non-null    float64       \n",
      " 21  T                                                                                                                                          306 non-null    float64       \n",
      " 22  H                                                                                                                                          306 non-null    float64       \n",
      " 23  Tgl                                                                                                                                        306 non-null    float64       \n",
      " 24  CO2                                                                                                                                        306 non-null    float64       \n",
      " 25  PM2.5                                                                                                                                      306 non-null    float64       \n",
      " 26  Mood_tense                                                                                                                                 306 non-null    int64         \n",
      " 27  Mood_angry                                                                                                                                 306 non-null    int64         \n",
      " 28  Mood_fatigued                                                                                                                              306 non-null    int64         \n",
      " 29  Mood_depressed                                                                                                                             306 non-null    int64         \n",
      " 30  Mood_vigorous                                                                                                                              306 non-null    int64         \n",
      " 31  Mood_confused                                                                                                                              306 non-null    int64         \n",
      " 32  Fatigue_PhysicalExertion                                                                                                                   306 non-null    int64         \n",
      " 33  Fatigue_PhysicalDiscomfort                                                                                                                 306 non-null    int64         \n",
      " 34  Fatigue_LackofMotivation                                                                                                                   306 non-null    int64         \n",
      " 35  Fatigue_Sleepiness                                                                                                                         306 non-null    int64         \n",
      " 36  Fatigue_LackofEnergy                                                                                                                       306 non-null    int64         \n",
      " 37  Rotation1                                                                                                                                  306 non-null    int64         \n",
      " 38  SpatialSpan1                                                                                                                               306 non-null    int64         \n",
      " 39  FeatureMatch1                                                                                                                              306 non-null    int64         \n",
      " 40  DoubleTrouble1                                                                                                                             306 non-null    int64         \n",
      " 41  Rotation2                                                                                                                                  306 non-null    int64         \n",
      " 42  SpatialSpan2                                                                                                                               306 non-null    int64         \n",
      " 43  FeatureMatch2                                                                                                                              306 non-null    int64         \n",
      " 44  DoubleTrouble2                                                                                                                             306 non-null    int64         \n",
      " 45  Rotation_average                                                                                                                           306 non-null    float64       \n",
      " 46  SpatialSpan_average                                                                                                                        306 non-null    float64       \n",
      " 47  FeatureMatch_average                                                                                                                       306 non-null    float64       \n",
      " 48  DoubleTrouble_average                                                                                                                      306 non-null    float64       \n",
      " 49  Rotation_max                                                                                                                               306 non-null    int64         \n",
      " 50  SpatialSpan_max                                                                                                                            306 non-null    int64         \n",
      " 51  FeatureMatch_max                                                                                                                           306 non-null    int64         \n",
      " 52  DoubleTrouble_max                                                                                                                          306 non-null    int64         \n",
      " 53  Mental demand                                                                                                                              306 non-null    int64         \n",
      " 54  Physical demand                                                                                                                            306 non-null    int64         \n",
      " 55  Temporal demand                                                                                                                            306 non-null    int64         \n",
      " 56  Performance                                                                                                                                306 non-null    int64         \n",
      " 57  Effort                                                                                                                                     306 non-null    int64         \n",
      " 58  Frustration                                                                                                                                306 non-null    int64         \n",
      " 59  ThermalSensation                                                                                                                           306 non-null    int64         \n",
      " 60  ThermalAcceptability                                                                                                                       306 non-null    int64         \n",
      " 61  NoiseAnnoyance                                                                                                                             306 non-null    int64         \n",
      " 62  AcousticSatisfaction                                                                                                                       306 non-null    int64         \n",
      " 63  UnsatisfiedNoiseSource                                                                                                                     188 non-null    object        \n",
      " 64  UnsatisfiedNoiseSource - other                                                                                                             7 non-null      object        \n",
      " 65  ThermalSatisfaction                                                                                                                        306 non-null    int64         \n",
      " 66  TotalSatisfaction                                                                                                                          306 non-null    int64         \n",
      " 67  SET                                                                                                                                        306 non-null    float64       \n",
      " 68  Average_tmsk                                                                                                                               306 non-null    float64       \n",
      " 69  Average_HR                                                                                                                                 300 non-null    float64       \n",
      " 70  Year of birth\n",
      "\n",
      "For example 1995                                                                                                            306 non-null    int64         \n",
      " 71  Sex                                                                                                                                        306 non-null    object        \n",
      " 72  Height (cm)                                                                                                                                306 non-null    float64       \n",
      " 73  Weight (kg)                                                                                                                                306 non-null    float64       \n",
      " 74  How long have you been in Singapore (in years)?                                                                                            306 non-null    int64         \n",
      " 75  Can you say that you are satisfied with the weather in this city (outdoor weather conditions)?                                             306 non-null    object        \n",
      " 76  Which type of environment do you like to stay in?                                                                                          306 non-null    object        \n",
      " 77  How often do you turn on A/C at home?\n",
      "\n",
      "1 means \"Not at all\" and 5 means \"Always\"                                                           306 non-null    int64         \n",
      " 78  1 means \"do not agree at all\" and 4 means \"totally agree\" - I need an environment that is completely quiet to get a good nightâ€™s sleep   306 non-null    int64         \n",
      " 79  1 means \"do not agree at all\" and 4 means \"totally agree\" - I need a quiet environment to be able to perform new tasks                     306 non-null    int64         \n",
      " 80  1 means \"do not agree at all\" and 4 means \"totally agree\" - When at home, I quickly get used to noise                                      306 non-null    int64         \n",
      " 81  1 means \"do not agree at all\" and 4 means \"totally agree\" - I become very distressed, if I hear someone talking when I am trying to sleep  306 non-null    int64         \n",
      " 82  1 means \"do not agree at all\" and 4 means \"totally agree\" - I am very sensitive to noise from my neighbours                                306 non-null    int64         \n",
      " 83  1 means \"do not agree at all\" and 4 means \"totally agree\" - When people around me are noisy, I have trouble completing my work             306 non-null    int64         \n",
      " 84  1 means \"do not agree at all\" and 4 means \"totally agree\" - I am much less efficient in noisy environments                                 306 non-null    int64         \n",
      " 85  1 means \"do not agree at all\" and 4 means \"totally agree\" - I do not feel well rested after a noisy night                                  306 non-null    int64         \n",
      " 86  1 means \"do not agree at all\" and 4 means \"totally agree\" - It would not bother me to live in a noisy street                               306 non-null    int64         \n",
      " 87  1 means \"do not agree at all\" and 4 means \"totally agree\" - I am willing to accept disadvantages to live in a quiet place                  306 non-null    int64         \n",
      " 88  1 means \"do not agree at all\" and 4 means \"totally agree\" - I need peace and quiet to perform a difficult task                             306 non-null    int64         \n",
      " 89  1 means \"do not agree at all\" and 4 means \"totally agree\" - I can fall asleep even when it is noisy                                        306 non-null    int64         \n",
      " 90  Top type - Selected Choice                                                                                                                 306 non-null    object        \n",
      " 91  Top type - Others (7) - Text                                                                                                               0 non-null      float64       \n",
      " 92  Bottom colour                                                                                                                              306 non-null    object        \n",
      " 93  Bottom type - Selected Choice                                                                                                              306 non-null    object        \n",
      " 94  Bottom type - Others - Text                                                                                                                0 non-null      float64       \n",
      " 95  clo                                                                                                                                        306 non-null    float64       \n",
      " 96  type                                                                                                                                       306 non-null    object        \n",
      "dtypes: bool(1), datetime64[ns](3), float64(19), int64(57), object(17)\n",
      "memory usage: 229.9+ KB\n"
     ]
    }
   ],
   "source": [
    "data_v5b.info()"
   ]
  },
  {
   "cell_type": "markdown",
   "metadata": {},
   "source": [
    "# set calculation"
   ]
  },
  {
   "cell_type": "code",
   "execution_count": 28,
   "metadata": {},
   "outputs": [],
   "source": [
    "import pythermalcomfort as ptc\n",
    "try:\n",
    "    col_res = []\n",
    "    for _, row in data_v5b.iterrows():\n",
    "        col_res.append(ptc.models.set_tmp(row['T'], row['Tgl'], row['v_adj'], row['H'], 1, row['clo']))\n",
    "    data_v5b['new_set'] = col_res\n",
    "except ValueError:\n",
    "    print(row)"
   ]
  },
  {
   "cell_type": "code",
   "execution_count": 30,
   "metadata": {},
   "outputs": [],
   "source": [
    "data_v5b.to_excel(\"../0_dataset_master/Experiment_edited_V6.xlsx\", index=False)"
   ]
  }
 ],
 "metadata": {
  "kernelspec": {
   "display_name": "Python 3",
   "language": "python",
   "name": "python3"
  },
  "language_info": {
   "codemirror_mode": {
    "name": "ipython",
    "version": 3
   },
   "file_extension": ".py",
   "mimetype": "text/x-python",
   "name": "python",
   "nbconvert_exporter": "python",
   "pygments_lexer": "ipython3",
   "version": "3.10.11"
  }
 },
 "nbformat": 4,
 "nbformat_minor": 2
}
